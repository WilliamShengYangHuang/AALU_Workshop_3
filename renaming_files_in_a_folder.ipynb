{
  "nbformat": 4,
  "nbformat_minor": 0,
  "metadata": {
    "colab": {
      "provenance": [],
      "machine_shape": "hm",
      "include_colab_link": true
    },
    "kernelspec": {
      "name": "python3",
      "display_name": "Python 3"
    },
    "language_info": {
      "name": "python"
    },
    "accelerator": "GPU"
  },
  "cells": [
    {
      "cell_type": "markdown",
      "metadata": {
        "id": "view-in-github",
        "colab_type": "text"
      },
      "source": [
        "<a href=\"https://colab.research.google.com/github/WilliamShengYangHuang/AALU_Workshop_3/blob/main/renaming_files_in_a_folder.ipynb\" target=\"_parent\"><img src=\"https://colab.research.google.com/assets/colab-badge.svg\" alt=\"Open In Colab\"/></a>"
      ]
    },
    {
      "cell_type": "markdown",
      "source": [
        "\n",
        "This script renames files in a specified directory based on their original alphabetical order, assigning new names with a sequential four-digit numbering format (e.g., 0000.jpg, 0001.jpg). It’s ideal for organising datasets or images systematically. Users can customise the starting number, range, and file format for tailored renaming tasks."
      ],
      "metadata": {
        "id": "wwLYM-QvhlF2"
      }
    },
    {
      "cell_type": "code",
      "source": [
        "# @title\n",
        "import os\n",
        "os.getcwd()\n",
        "from google.colab import drive\n",
        "\n",
        "drive.mount(\"/content/drive\")"
      ],
      "metadata": {
        "id": "R_c02tYkh7yn",
        "outputId": "151e91da-be44-4aed-f64b-a24cee54468f",
        "colab": {
          "base_uri": "https://localhost:8080/"
        }
      },
      "execution_count": 2,
      "outputs": [
        {
          "output_type": "stream",
          "name": "stdout",
          "text": [
            "Drive already mounted at /content/drive; to attempt to forcibly remount, call drive.mount(\"/content/drive\", force_remount=True).\n"
          ]
        }
      ]
    },
    {
      "cell_type": "code",
      "source": [
        "# @title\n",
        "# Define the function\n",
        "def rename_files_by_sorted_name(start, end, step):\n",
        "    # Get the list of files sorted by name\n",
        "    files = sorted(os.listdir(PATH))\n",
        "    for idx, i in enumerate(range(start, end, step)):\n",
        "        if idx >= len(files):  # Prevent index out of range\n",
        "            break\n",
        "        old_file = os.path.join(PATH, files[idx])  # Full path of the old file\n",
        "        new_file = os.path.join(PATH, f\"{str(i).zfill(4)}{FORMAT}\")  # Four-digit numbering\n",
        "        os.rename(old_file, new_file)  # Rename file"
      ],
      "metadata": {
        "cellView": "form",
        "id": "SO7BwSgGfNh4"
      },
      "execution_count": 3,
      "outputs": []
    },
    {
      "cell_type": "code",
      "source": [
        "# @title\n",
        "\"\"\"for i, filename in enumerate(os.listdir(PATH)):\n",
        "    #os.rename(PATH + filename, PATH + 'gen_' + str(i) + FORMAT)\n",
        "    #os.rename(PATH + filename, PATH + str(i) + FORMAT)\n",
        "    os.rename(PATH + filename, PATH + str(i+0) + FORMAT)\n",
        "    print(i)\"\"\""
      ],
      "metadata": {
        "id": "njDxG-jxrDRF",
        "colab": {
          "base_uri": "https://localhost:8080/",
          "height": 53
        },
        "outputId": "acf28180-19a7-4a0f-fc78-7ce8a544d87f",
        "cellView": "form"
      },
      "execution_count": 4,
      "outputs": [
        {
          "output_type": "execute_result",
          "data": {
            "text/plain": [
              "\"for i, filename in enumerate(os.listdir(PATH)):\\n    #os.rename(PATH + filename, PATH + 'gen_' + str(i) + FORMAT)\\n    #os.rename(PATH + filename, PATH + str(i) + FORMAT)\\n    os.rename(PATH + filename, PATH + str(i+0) + FORMAT)\\n    print(i)\""
            ],
            "application/vnd.google.colaboratory.intrinsic+json": {
              "type": "string"
            }
          },
          "metadata": {},
          "execution_count": 4
        }
      ]
    },
    {
      "cell_type": "code",
      "source": [
        "# Define the folder path and file format\n",
        "PATH = \"/content/drive/My Drive/frame_captures\"   #@param{type:'string'}\n",
        "FORMAT = \".jpg\"  #@param{type:'string'}\n",
        "\n",
        "# Print the number of files before renaming\n",
        "print(\"Number of files before renaming:\", len(os.listdir(PATH)))\n",
        "\n",
        "# Define the range for renaming\n",
        "start = 0  #@param{type:'integer'}\n",
        "end = 100  #@param{type:'integer'}\n",
        "step = 1  #@param{type:'integer'}\n",
        "\n",
        "# Call the renaming function\n",
        "rename_files_by_sorted_name(start, end, step)\n",
        "\n",
        "# Print the number of files after renaming\n",
        "print(\"Number of files after renaming:\", len(os.listdir(PATH)))\n",
        "\n",
        "# List renamed files\n",
        "print(\"Renamed files:\", os.listdir(PATH))"
      ],
      "metadata": {
        "colab": {
          "base_uri": "https://localhost:8080/"
        },
        "cellView": "form",
        "id": "AN5BD2KJgNd4",
        "outputId": "04653912-3fd0-457a-a84d-c4e5c311a672"
      },
      "execution_count": 6,
      "outputs": [
        {
          "output_type": "stream",
          "name": "stdout",
          "text": [
            "Number of files before renaming: 60\n",
            "Number of files after renaming: 60\n",
            "Renamed files: ['0000.jpg', '0001.jpg', '0002.jpg', '0003.jpg', '0004.jpg', '0005.jpg', '0006.jpg', '0007.jpg', '0008.jpg', '0009.jpg', '0010.jpg', '0011.jpg', '0012.jpg', '0013.jpg', '0014.jpg', '0015.jpg', '0016.jpg', '0017.jpg', '0018.jpg', '0019.jpg', '0020.jpg', '0021.jpg', '0022.jpg', '0023.jpg', '0024.jpg', '0025.jpg', '0026.jpg', '0027.jpg', '0028.jpg', '0029.jpg', '0030.jpg', '0031.jpg', '0032.jpg', '0033.jpg', '0034.jpg', '0035.jpg', '0036.jpg', '0037.jpg', '0038.jpg', '0039.jpg', '0040.jpg', '0041.jpg', '0042.jpg', '0043.jpg', '0044.jpg', '0045.jpg', '0046.jpg', '0047.jpg', '0048.jpg', '0049.jpg', '0050.jpg', '0051.jpg', '0052.jpg', '0053.jpg', '0054.jpg', '0055.jpg', '0056.jpg', '0057.jpg', '0058.jpg', '0059.jpg']\n"
          ]
        }
      ]
    }
  ]
}