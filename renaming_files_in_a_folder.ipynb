{
  "nbformat": 4,
  "nbformat_minor": 0,
  "metadata": {
    "colab": {
      "provenance": [],
      "machine_shape": "hm",
      "include_colab_link": true
    },
    "kernelspec": {
      "name": "python3",
      "display_name": "Python 3"
    },
    "language_info": {
      "name": "python"
    },
    "accelerator": "GPU"
  },
  "cells": [
    {
      "cell_type": "markdown",
      "metadata": {
        "id": "view-in-github",
        "colab_type": "text"
      },
      "source": [
        "<a href=\"https://colab.research.google.com/github/WilliamShengYangHuang/AALU_Workshop_3/blob/main/renaming_files_in_a_folder.ipynb\" target=\"_parent\"><img src=\"https://colab.research.google.com/assets/colab-badge.svg\" alt=\"Open In Colab\"/></a>"
      ]
    },
    {
      "cell_type": "markdown",
      "source": [
        "\n",
        "This script renames files in a specified directory based on their original alphabetical order, assigning new names with a sequential four-digit numbering format (e.g., 0000.jpg, 0001.jpg). It’s ideal for organising datasets or images systematically. Users can customise the starting number, range, and file format for tailored renaming tasks."
      ],
      "metadata": {
        "id": "wwLYM-QvhlF2"
      }
    },
    {
      "cell_type": "code",
      "source": [
        "# @title\n",
        "import os\n",
        "os.getcwd()\n",
        "from google.colab import drive\n",
        "\n",
        "drive.mount(\"/content/drive\")"
      ],
      "metadata": {
        "id": "YN9lS1tArisi",
        "cellView": "form"
      },
      "execution_count": null,
      "outputs": []
    },
    {
      "cell_type": "markdown",
      "source": [
        "/content/drive/My Drive/phd_thesis_data/deep_city/paired_datasets/w-s/train/"
      ],
      "metadata": {
        "id": "rgriOIt8h_X-"
      }
    },
    {
      "cell_type": "code",
      "source": [
        "# @title\n",
        "# Define the function\n",
        "def rename_files_by_sorted_name(start, end, step):\n",
        "    # Get the list of files sorted by name\n",
        "    files = sorted(os.listdir(PATH))\n",
        "    for idx, i in enumerate(range(start, end, step)):\n",
        "        if idx >= len(files):  # Prevent index out of range\n",
        "            break\n",
        "        old_file = os.path.join(PATH, files[idx])  # Full path of the old file\n",
        "        new_file = os.path.join(PATH, f\"{str(i).zfill(4)}{FORMAT}\")  # Four-digit numbering\n",
        "        os.rename(old_file, new_file)  # Rename file"
      ],
      "metadata": {
        "cellView": "form",
        "id": "SO7BwSgGfNh4"
      },
      "execution_count": null,
      "outputs": []
    },
    {
      "cell_type": "code",
      "source": [
        "# @title\n",
        "\"\"\"for i, filename in enumerate(os.listdir(PATH)):\n",
        "    #os.rename(PATH + filename, PATH + 'gen_' + str(i) + FORMAT)\n",
        "    #os.rename(PATH + filename, PATH + str(i) + FORMAT)\n",
        "    os.rename(PATH + filename, PATH + str(i+0) + FORMAT)\n",
        "    print(i)\"\"\""
      ],
      "metadata": {
        "id": "njDxG-jxrDRF",
        "colab": {
          "base_uri": "https://localhost:8080/",
          "height": 53
        },
        "outputId": "d775ff2d-3566-4543-dafc-878ed786e635",
        "cellView": "form"
      },
      "execution_count": null,
      "outputs": [
        {
          "output_type": "execute_result",
          "data": {
            "text/plain": [
              "\"for i, filename in enumerate(os.listdir(PATH)):\\n    #os.rename(PATH + filename, PATH + 'gen_' + str(i) + FORMAT)\\n    #os.rename(PATH + filename, PATH + str(i) + FORMAT)\\n    os.rename(PATH + filename, PATH + str(i+0) + FORMAT)\\n    print(i)\""
            ],
            "application/vnd.google.colaboratory.intrinsic+json": {
              "type": "string"
            }
          },
          "metadata": {},
          "execution_count": 6
        }
      ]
    },
    {
      "cell_type": "code",
      "source": [
        "# Define the folder path and file format\n",
        "PATH = \"/content/drive/My Drive/your_folder_path\"   #@param{type:'string'}\n",
        "FORMAT = \".jpg\"  #@param{type:'string'}\n",
        "\n",
        "# Print the number of files before renaming\n",
        "print(\"Number of files before renaming:\", len(os.listdir(PATH)))\n",
        "\n",
        "# Define the range for renaming\n",
        "start = 0  #@param{type:'integer'}\n",
        "end = 100  #@param{type:'integer'}\n",
        "step = 1  #@param{type:'integer'}\n",
        "\n",
        "# Call the renaming function\n",
        "rename_files_by_sorted_name(start, end, step)\n",
        "\n",
        "# Print the number of files after renaming\n",
        "print(\"Number of files after renaming:\", len(os.listdir(PATH)))\n",
        "\n",
        "# List renamed files\n",
        "print(\"Renamed files:\", os.listdir(PATH))"
      ],
      "metadata": {
        "cellView": "form",
        "id": "AN5BD2KJgNd4"
      },
      "execution_count": null,
      "outputs": []
    }
  ]
}