{
  "nbformat": 4,
  "nbformat_minor": 0,
  "metadata": {
    "colab": {
      "provenance": [],
      "machine_shape": "hm",
      "gpuType": "A100",
      "authorship_tag": "ABX9TyNaGNfaySZEINYsUHjyduk8",
      "include_colab_link": true
    },
    "kernelspec": {
      "name": "python3",
      "display_name": "Python 3"
    },
    "language_info": {
      "name": "python"
    },
    "accelerator": "GPU"
  },
  "cells": [
    {
      "cell_type": "markdown",
      "metadata": {
        "id": "view-in-github",
        "colab_type": "text"
      },
      "source": [
        "<a href=\"https://colab.research.google.com/github/WilliamShengYangHuang/AALU_Workshop_3/blob/main/Text_Embeddings_v2.ipynb\" target=\"_parent\"><img src=\"https://colab.research.google.com/assets/colab-badge.svg\" alt=\"Open In Colab\"/></a>"
      ]
    },
    {
      "cell_type": "code",
      "source": [
        "# @title\n",
        "# Required installations\n",
        "# !pip install transformers scikit-learn pandas numpy torch plotly\n",
        "\n",
        "import os\n",
        "import numpy as np\n",
        "import pandas as pd\n",
        "import torch\n",
        "from transformers import AutoTokenizer, AutoModel\n",
        "from sklearn.decomposition import PCA\n",
        "from sklearn.manifold import TSNE\n",
        "import plotly.express as px\n",
        "from google.colab import drive\n",
        "\n",
        "# Mount Google Drive\n",
        "drive.mount('/content/drive')"
      ],
      "metadata": {
        "colab": {
          "base_uri": "https://localhost:8080/"
        },
        "collapsed": true,
        "id": "ZqM0Ds6NJeHE",
        "outputId": "791975ef-22a9-43c1-a23f-7eb5c4d52cdb",
        "cellView": "form"
      },
      "execution_count": 18,
      "outputs": [
        {
          "output_type": "stream",
          "name": "stdout",
          "text": [
            "Drive already mounted at /content/drive; to attempt to forcibly remount, call drive.mount(\"/content/drive\", force_remount=True).\n"
          ]
        }
      ]
    },
    {
      "cell_type": "markdown",
      "source": [
        "## Enter the text folder path below, then select a dimensionality reduction method for data projection.\n",
        "\n"
      ],
      "metadata": {
        "id": "2RxstTnkGjaz"
      }
    },
    {
      "cell_type": "code",
      "source": [
        "# Load pre-trained model and tokenizer (e.g., 'bert-base-uncased')\n",
        "tokenizer = AutoTokenizer.from_pretrained('bert-base-uncased')\n",
        "model = AutoModel.from_pretrained('bert-base-uncased')\n",
        "\n",
        "# Function to extract embeddings for an entire text\n",
        "def get_cell_embedding(text, model, tokenizer, max_length=512):\n",
        "    inputs = tokenizer(text, return_tensors=\"pt\", truncation=True, padding=True, max_length=max_length)\n",
        "    with torch.no_grad():\n",
        "        outputs = model(**inputs)\n",
        "    # Return the embedding of the [CLS] token as the representation of the entire text\n",
        "    embedding = outputs.last_hidden_state[:, 0, :].squeeze().numpy()  # Shape: (embedding_dim,)\n",
        "    return embedding\n",
        "\n",
        "# Read text content from the second row of a CSV file\n",
        "def read_text_from_csv(file_path):\n",
        "\n",
        "    try:\n",
        "        df = pd.read_csv(file_path, header=0, encoding='utf-8')\n",
        "    except UnicodeDecodeError:\n",
        "\n",
        "        df = pd.read_csv(file_path, header=0, encoding='latin1')\n",
        "    # Flatten the CSV content into a list of strings (skip the header row)\n",
        "    texts = df.iloc[1:].values.flatten().tolist()\n",
        "    return texts\n",
        "\n",
        "# Main process: Convert each cell into embeddings and save to CSV\n",
        "def process_csv_cells_to_embeddings(input_csv_path, output_csv_path, method='pca'):\n",
        "    # Read text content from the CSV\n",
        "    texts = read_text_from_csv(input_csv_path)\n",
        "\n",
        "    all_embeddings = []\n",
        "\n",
        "    # Get embeddings for all text cells in the CSV\n",
        "    for text in texts:\n",
        "        embedding = get_cell_embedding(text, model, tokenizer)\n",
        "        all_embeddings.append(embedding)\n",
        "\n",
        "    all_embeddings = np.array(all_embeddings)\n",
        "\n",
        "    # Check for invalid embeddings\n",
        "    if np.isnan(all_embeddings).any():\n",
        "        raise ValueError(\"Embeddings contain NaN values. Check the input data.\")\n",
        "\n",
        "    # Adjust n_components based on the data\n",
        "    n_samples, n_features = all_embeddings.shape\n",
        "    n_components = min(3, n_samples, n_features)\n",
        "    if n_components < 2:\n",
        "        print(\"Reducing to 2D as data is insufficient for 3D.\")\n",
        "        n_components = 2\n",
        "\n",
        "    # Choose dimensionality reduction method: PCA or t-SNE\n",
        "    method = method.lower()\n",
        "    if method == 'pca':\n",
        "        reducer = PCA(n_components=n_components)\n",
        "    elif method == 'tsne':\n",
        "        # Dynamically adjust perplexity to ensure it is less than n_samples\n",
        "        perplexity = min(30, max(5, n_samples // 3))\n",
        "        reducer = TSNE(n_components=n_components, random_state=42, perplexity=perplexity)\n",
        "        print(f\"Using t-SNE with perplexity={perplexity}.\")\n",
        "    else:\n",
        "        raise ValueError(f\"Invalid method '{method}'. Please choose either 'pca' or 'tsne'.\")\n",
        "\n",
        "    # Perform dimensionality reduction\n",
        "    reduced_embeddings = reducer.fit_transform(all_embeddings)\n",
        "\n",
        "    # Dynamically set column names (x, y, z), adjusting if dimensions are fewer than 3\n",
        "    column_names = ['x', 'y', 'z'][:n_components]\n",
        "\n",
        "    # Create DataFrame to save embeddings\n",
        "    df = pd.DataFrame(reduced_embeddings, columns=column_names)\n",
        "    df['text'] = texts  # Include the original text for reference\n",
        "    df.to_csv(output_csv_path, index=False)\n",
        "    print(f\"Latent space saved to {output_csv_path}\")\n",
        "\n",
        "# Function to visualise the 3D latent space interactively using plotly\n",
        "def visualise_latent_space_interactive(csv_path):\n",
        "    # Read the CSV containing the text and 3D coordinates\n",
        "    df = pd.read_csv(csv_path)\n",
        "\n",
        "    # Check if 'z' column is available for 3D plot, otherwise do a 2D plot\n",
        "    if 'z' in df.columns:\n",
        "        # Create a 3D scatter plot using Plotly\n",
        "        fig = px.scatter_3d(df, x='x', y='y', z='z', text='text', title=\"3D Latent Space Visualisation\")\n",
        "        fig.update_traces(marker=dict(size=3))  # Adjust marker size for better visibility\n",
        "    elif 'y' in df.columns:\n",
        "        # Create a 2D scatter plot\n",
        "        fig = px.scatter(df, x='x', y='y', text='text', title=\"2D Latent Space Visualisation\")\n",
        "        fig.update_traces(marker=dict(size=3))  # Adjust marker size for better visibility\n",
        "    else:\n",
        "        raise ValueError(\"Insufficient dimensions for visualisation. Ensure data has at least 2D.\")\n",
        "\n",
        "    # Display the plot\n",
        "    fig.show()\n",
        "\n",
        "# Define the input and output CSV paths\n",
        "input_csv_path = '/content/drive/My Drive/test_text.csv'  #@param{type:'string'}\n",
        "output_csv_path = '/content/drive/My Drive/cell_latent_space.csv'   #@param{type:'string'}\n",
        "method = 'TSNE'  #@param{type:'string'}['PCA', 'TSNE']\n",
        "\n",
        "# Run the process and save results\n",
        "process_csv_cells_to_embeddings(input_csv_path, output_csv_path, method)\n",
        "\n",
        "# Run the interactive visualisation\n",
        "visualise_latent_space_interactive(output_csv_path)\n"
      ],
      "metadata": {
        "colab": {
          "base_uri": "https://localhost:8080/",
          "height": 577
        },
        "cellView": "form",
        "id": "blx0djCTcyX-",
        "outputId": "93cdf61d-49ca-4e67-dc95-a47b0361b98a"
      },
      "execution_count": 21,
      "outputs": [
        {
          "output_type": "stream",
          "name": "stdout",
          "text": [
            "Using t-SNE with perplexity=9.\n",
            "Latent space saved to /content/drive/My Drive/cell_latent_space.csv\n"
          ]
        },
        {
          "output_type": "display_data",
          "data": {
            "text/html": [
              "<html>\n",
              "<head><meta charset=\"utf-8\" /></head>\n",
              "<body>\n",
              "    <div>            <script src=\"https://cdnjs.cloudflare.com/ajax/libs/mathjax/2.7.5/MathJax.js?config=TeX-AMS-MML_SVG\"></script><script type=\"text/javascript\">if (window.MathJax && window.MathJax.Hub && window.MathJax.Hub.Config) {window.MathJax.Hub.Config({SVG: {font: \"STIX-Web\"}});}</script>                <script type=\"text/javascript\">window.PlotlyConfig = {MathJaxConfig: 'local'};</script>\n",
              "        <script charset=\"utf-8\" src=\"https://cdn.plot.ly/plotly-2.35.2.min.js\"></script>                <div id=\"7605f2be-4183-4bf9-9bab-fe6b7cb63b5f\" class=\"plotly-graph-div\" style=\"height:525px; width:100%;\"></div>            <script type=\"text/javascript\">                                    window.PLOTLYENV=window.PLOTLYENV || {};                                    if (document.getElementById(\"7605f2be-4183-4bf9-9bab-fe6b7cb63b5f\")) {                    Plotly.newPlot(                        \"7605f2be-4183-4bf9-9bab-fe6b7cb63b5f\",                        [{\"hovertemplate\":\"x=%{x}\\u003cbr\\u003ey=%{y}\\u003cbr\\u003ez=%{z}\\u003cbr\\u003etext=%{text}\\u003cextra\\u003e\\u003c\\u002fextra\\u003e\",\"legendgroup\":\"\",\"marker\":{\"color\":\"#636efa\",\"symbol\":\"circle\",\"size\":3},\"mode\":\"markers+text\",\"name\":\"\",\"scene\":\"scene\",\"showlegend\":false,\"text\":[\"the image of the city is there\",\"the mountain is high\",\"the building is high\",\"the path is narrow\",\"there is no path\",\"the city has many secrets\",\"it is a mystrious city\",\"I got lost in the city\",\"the city is not walkable\",\"there are many cars in the city\",\"the city is friendy to drivers\",\"the city is not friendy to pedestrians\",\"there is no way cross\",\"no street furnitures available\",\"people like the city\",\"kids like the playground\",\"ladies like the shops\",\"the city has no zoo\",\"zoos are not essential to a city\",\"more green infrastructures needed\",\"the buildings are too tall\",\"architects dont like the building\",\"taxis are available to the downtown\",\"the city ususally gets flooded in summer\",\"there is a serious water management issue \",\"there is a powerplant driven by water power\",\"manufacturing is the main industry in the city \",\"I can't find the railway station \",\"I will never visit the city again\"],\"x\":[25.079538,-6.0455413,61.045284,-51.35645,-21.610634,37.75321,66.76433,-58.96941,31.387918,44.23232,34.598995,0.10399267,-34.177185,-37.40622,93.9394,-104.32281,-59.873352,44.845715,-30.950075,35.042515,34.9948,-7.7715297,-3.390112,100.949234,70.267044,-125.131386,33.305386,-89.411,-24.916914],\"y\":[78.18485,105.90569,-76.29343,85.38497,-42.197002,-59.181023,-22.085993,-89.36519,58.51946,8.819489,3.1199489,27.82605,-27.38166,-52.757496,24.766659,-36.462612,17.253166,71.6014,58.95305,-55.302094,-14.969533,21.230804,-17.0338,14.049764,89.00556,43.089035,16.923992,-28.032873,-77.3384],\"z\":[-57.28825,-9.454423,56.07353,-2.6328773,-36.019398,-9.8604,-29.820433,-18.049229,35.807144,67.92407,9.606646,31.817118,4.063034,-88.38025,-63.28767,-29.3634,-38.57781,93.61156,75.32152,-107.58655,-68.018814,-106.98348,91.20207,50.781292,12.574634,-12.110204,121.61745,53.843513,21.448853],\"type\":\"scatter3d\"}],                        {\"template\":{\"data\":{\"histogram2dcontour\":[{\"type\":\"histogram2dcontour\",\"colorbar\":{\"outlinewidth\":0,\"ticks\":\"\"},\"colorscale\":[[0.0,\"#0d0887\"],[0.1111111111111111,\"#46039f\"],[0.2222222222222222,\"#7201a8\"],[0.3333333333333333,\"#9c179e\"],[0.4444444444444444,\"#bd3786\"],[0.5555555555555556,\"#d8576b\"],[0.6666666666666666,\"#ed7953\"],[0.7777777777777778,\"#fb9f3a\"],[0.8888888888888888,\"#fdca26\"],[1.0,\"#f0f921\"]]}],\"choropleth\":[{\"type\":\"choropleth\",\"colorbar\":{\"outlinewidth\":0,\"ticks\":\"\"}}],\"histogram2d\":[{\"type\":\"histogram2d\",\"colorbar\":{\"outlinewidth\":0,\"ticks\":\"\"},\"colorscale\":[[0.0,\"#0d0887\"],[0.1111111111111111,\"#46039f\"],[0.2222222222222222,\"#7201a8\"],[0.3333333333333333,\"#9c179e\"],[0.4444444444444444,\"#bd3786\"],[0.5555555555555556,\"#d8576b\"],[0.6666666666666666,\"#ed7953\"],[0.7777777777777778,\"#fb9f3a\"],[0.8888888888888888,\"#fdca26\"],[1.0,\"#f0f921\"]]}],\"heatmap\":[{\"type\":\"heatmap\",\"colorbar\":{\"outlinewidth\":0,\"ticks\":\"\"},\"colorscale\":[[0.0,\"#0d0887\"],[0.1111111111111111,\"#46039f\"],[0.2222222222222222,\"#7201a8\"],[0.3333333333333333,\"#9c179e\"],[0.4444444444444444,\"#bd3786\"],[0.5555555555555556,\"#d8576b\"],[0.6666666666666666,\"#ed7953\"],[0.7777777777777778,\"#fb9f3a\"],[0.8888888888888888,\"#fdca26\"],[1.0,\"#f0f921\"]]}],\"heatmapgl\":[{\"type\":\"heatmapgl\",\"colorbar\":{\"outlinewidth\":0,\"ticks\":\"\"},\"colorscale\":[[0.0,\"#0d0887\"],[0.1111111111111111,\"#46039f\"],[0.2222222222222222,\"#7201a8\"],[0.3333333333333333,\"#9c179e\"],[0.4444444444444444,\"#bd3786\"],[0.5555555555555556,\"#d8576b\"],[0.6666666666666666,\"#ed7953\"],[0.7777777777777778,\"#fb9f3a\"],[0.8888888888888888,\"#fdca26\"],[1.0,\"#f0f921\"]]}],\"contourcarpet\":[{\"type\":\"contourcarpet\",\"colorbar\":{\"outlinewidth\":0,\"ticks\":\"\"}}],\"contour\":[{\"type\":\"contour\",\"colorbar\":{\"outlinewidth\":0,\"ticks\":\"\"},\"colorscale\":[[0.0,\"#0d0887\"],[0.1111111111111111,\"#46039f\"],[0.2222222222222222,\"#7201a8\"],[0.3333333333333333,\"#9c179e\"],[0.4444444444444444,\"#bd3786\"],[0.5555555555555556,\"#d8576b\"],[0.6666666666666666,\"#ed7953\"],[0.7777777777777778,\"#fb9f3a\"],[0.8888888888888888,\"#fdca26\"],[1.0,\"#f0f921\"]]}],\"surface\":[{\"type\":\"surface\",\"colorbar\":{\"outlinewidth\":0,\"ticks\":\"\"},\"colorscale\":[[0.0,\"#0d0887\"],[0.1111111111111111,\"#46039f\"],[0.2222222222222222,\"#7201a8\"],[0.3333333333333333,\"#9c179e\"],[0.4444444444444444,\"#bd3786\"],[0.5555555555555556,\"#d8576b\"],[0.6666666666666666,\"#ed7953\"],[0.7777777777777778,\"#fb9f3a\"],[0.8888888888888888,\"#fdca26\"],[1.0,\"#f0f921\"]]}],\"mesh3d\":[{\"type\":\"mesh3d\",\"colorbar\":{\"outlinewidth\":0,\"ticks\":\"\"}}],\"scatter\":[{\"fillpattern\":{\"fillmode\":\"overlay\",\"size\":10,\"solidity\":0.2},\"type\":\"scatter\"}],\"parcoords\":[{\"type\":\"parcoords\",\"line\":{\"colorbar\":{\"outlinewidth\":0,\"ticks\":\"\"}}}],\"scatterpolargl\":[{\"type\":\"scatterpolargl\",\"marker\":{\"colorbar\":{\"outlinewidth\":0,\"ticks\":\"\"}}}],\"bar\":[{\"error_x\":{\"color\":\"#2a3f5f\"},\"error_y\":{\"color\":\"#2a3f5f\"},\"marker\":{\"line\":{\"color\":\"#E5ECF6\",\"width\":0.5},\"pattern\":{\"fillmode\":\"overlay\",\"size\":10,\"solidity\":0.2}},\"type\":\"bar\"}],\"scattergeo\":[{\"type\":\"scattergeo\",\"marker\":{\"colorbar\":{\"outlinewidth\":0,\"ticks\":\"\"}}}],\"scatterpolar\":[{\"type\":\"scatterpolar\",\"marker\":{\"colorbar\":{\"outlinewidth\":0,\"ticks\":\"\"}}}],\"histogram\":[{\"marker\":{\"pattern\":{\"fillmode\":\"overlay\",\"size\":10,\"solidity\":0.2}},\"type\":\"histogram\"}],\"scattergl\":[{\"type\":\"scattergl\",\"marker\":{\"colorbar\":{\"outlinewidth\":0,\"ticks\":\"\"}}}],\"scatter3d\":[{\"type\":\"scatter3d\",\"line\":{\"colorbar\":{\"outlinewidth\":0,\"ticks\":\"\"}},\"marker\":{\"colorbar\":{\"outlinewidth\":0,\"ticks\":\"\"}}}],\"scattermapbox\":[{\"type\":\"scattermapbox\",\"marker\":{\"colorbar\":{\"outlinewidth\":0,\"ticks\":\"\"}}}],\"scatterternary\":[{\"type\":\"scatterternary\",\"marker\":{\"colorbar\":{\"outlinewidth\":0,\"ticks\":\"\"}}}],\"scattercarpet\":[{\"type\":\"scattercarpet\",\"marker\":{\"colorbar\":{\"outlinewidth\":0,\"ticks\":\"\"}}}],\"carpet\":[{\"aaxis\":{\"endlinecolor\":\"#2a3f5f\",\"gridcolor\":\"white\",\"linecolor\":\"white\",\"minorgridcolor\":\"white\",\"startlinecolor\":\"#2a3f5f\"},\"baxis\":{\"endlinecolor\":\"#2a3f5f\",\"gridcolor\":\"white\",\"linecolor\":\"white\",\"minorgridcolor\":\"white\",\"startlinecolor\":\"#2a3f5f\"},\"type\":\"carpet\"}],\"table\":[{\"cells\":{\"fill\":{\"color\":\"#EBF0F8\"},\"line\":{\"color\":\"white\"}},\"header\":{\"fill\":{\"color\":\"#C8D4E3\"},\"line\":{\"color\":\"white\"}},\"type\":\"table\"}],\"barpolar\":[{\"marker\":{\"line\":{\"color\":\"#E5ECF6\",\"width\":0.5},\"pattern\":{\"fillmode\":\"overlay\",\"size\":10,\"solidity\":0.2}},\"type\":\"barpolar\"}],\"pie\":[{\"automargin\":true,\"type\":\"pie\"}]},\"layout\":{\"autotypenumbers\":\"strict\",\"colorway\":[\"#636efa\",\"#EF553B\",\"#00cc96\",\"#ab63fa\",\"#FFA15A\",\"#19d3f3\",\"#FF6692\",\"#B6E880\",\"#FF97FF\",\"#FECB52\"],\"font\":{\"color\":\"#2a3f5f\"},\"hovermode\":\"closest\",\"hoverlabel\":{\"align\":\"left\"},\"paper_bgcolor\":\"white\",\"plot_bgcolor\":\"#E5ECF6\",\"polar\":{\"bgcolor\":\"#E5ECF6\",\"angularaxis\":{\"gridcolor\":\"white\",\"linecolor\":\"white\",\"ticks\":\"\"},\"radialaxis\":{\"gridcolor\":\"white\",\"linecolor\":\"white\",\"ticks\":\"\"}},\"ternary\":{\"bgcolor\":\"#E5ECF6\",\"aaxis\":{\"gridcolor\":\"white\",\"linecolor\":\"white\",\"ticks\":\"\"},\"baxis\":{\"gridcolor\":\"white\",\"linecolor\":\"white\",\"ticks\":\"\"},\"caxis\":{\"gridcolor\":\"white\",\"linecolor\":\"white\",\"ticks\":\"\"}},\"coloraxis\":{\"colorbar\":{\"outlinewidth\":0,\"ticks\":\"\"}},\"colorscale\":{\"sequential\":[[0.0,\"#0d0887\"],[0.1111111111111111,\"#46039f\"],[0.2222222222222222,\"#7201a8\"],[0.3333333333333333,\"#9c179e\"],[0.4444444444444444,\"#bd3786\"],[0.5555555555555556,\"#d8576b\"],[0.6666666666666666,\"#ed7953\"],[0.7777777777777778,\"#fb9f3a\"],[0.8888888888888888,\"#fdca26\"],[1.0,\"#f0f921\"]],\"sequentialminus\":[[0.0,\"#0d0887\"],[0.1111111111111111,\"#46039f\"],[0.2222222222222222,\"#7201a8\"],[0.3333333333333333,\"#9c179e\"],[0.4444444444444444,\"#bd3786\"],[0.5555555555555556,\"#d8576b\"],[0.6666666666666666,\"#ed7953\"],[0.7777777777777778,\"#fb9f3a\"],[0.8888888888888888,\"#fdca26\"],[1.0,\"#f0f921\"]],\"diverging\":[[0,\"#8e0152\"],[0.1,\"#c51b7d\"],[0.2,\"#de77ae\"],[0.3,\"#f1b6da\"],[0.4,\"#fde0ef\"],[0.5,\"#f7f7f7\"],[0.6,\"#e6f5d0\"],[0.7,\"#b8e186\"],[0.8,\"#7fbc41\"],[0.9,\"#4d9221\"],[1,\"#276419\"]]},\"xaxis\":{\"gridcolor\":\"white\",\"linecolor\":\"white\",\"ticks\":\"\",\"title\":{\"standoff\":15},\"zerolinecolor\":\"white\",\"automargin\":true,\"zerolinewidth\":2},\"yaxis\":{\"gridcolor\":\"white\",\"linecolor\":\"white\",\"ticks\":\"\",\"title\":{\"standoff\":15},\"zerolinecolor\":\"white\",\"automargin\":true,\"zerolinewidth\":2},\"scene\":{\"xaxis\":{\"backgroundcolor\":\"#E5ECF6\",\"gridcolor\":\"white\",\"linecolor\":\"white\",\"showbackground\":true,\"ticks\":\"\",\"zerolinecolor\":\"white\",\"gridwidth\":2},\"yaxis\":{\"backgroundcolor\":\"#E5ECF6\",\"gridcolor\":\"white\",\"linecolor\":\"white\",\"showbackground\":true,\"ticks\":\"\",\"zerolinecolor\":\"white\",\"gridwidth\":2},\"zaxis\":{\"backgroundcolor\":\"#E5ECF6\",\"gridcolor\":\"white\",\"linecolor\":\"white\",\"showbackground\":true,\"ticks\":\"\",\"zerolinecolor\":\"white\",\"gridwidth\":2}},\"shapedefaults\":{\"line\":{\"color\":\"#2a3f5f\"}},\"annotationdefaults\":{\"arrowcolor\":\"#2a3f5f\",\"arrowhead\":0,\"arrowwidth\":1},\"geo\":{\"bgcolor\":\"white\",\"landcolor\":\"#E5ECF6\",\"subunitcolor\":\"white\",\"showland\":true,\"showlakes\":true,\"lakecolor\":\"white\"},\"title\":{\"x\":0.05},\"mapbox\":{\"style\":\"light\"}}},\"scene\":{\"domain\":{\"x\":[0.0,1.0],\"y\":[0.0,1.0]},\"xaxis\":{\"title\":{\"text\":\"x\"}},\"yaxis\":{\"title\":{\"text\":\"y\"}},\"zaxis\":{\"title\":{\"text\":\"z\"}}},\"legend\":{\"tracegroupgap\":0},\"title\":{\"text\":\"3D Latent Space Visualisation\"}},                        {\"responsive\": true}                    ).then(function(){\n",
              "                            \n",
              "var gd = document.getElementById('7605f2be-4183-4bf9-9bab-fe6b7cb63b5f');\n",
              "var x = new MutationObserver(function (mutations, observer) {{\n",
              "        var display = window.getComputedStyle(gd).display;\n",
              "        if (!display || display === 'none') {{\n",
              "            console.log([gd, 'removed!']);\n",
              "            Plotly.purge(gd);\n",
              "            observer.disconnect();\n",
              "        }}\n",
              "}});\n",
              "\n",
              "// Listen for the removal of the full notebook cells\n",
              "var notebookContainer = gd.closest('#notebook-container');\n",
              "if (notebookContainer) {{\n",
              "    x.observe(notebookContainer, {childList: true});\n",
              "}}\n",
              "\n",
              "// Listen for the clearing of the current output cell\n",
              "var outputEl = gd.closest('.output');\n",
              "if (outputEl) {{\n",
              "    x.observe(outputEl, {childList: true});\n",
              "}}\n",
              "\n",
              "                        })                };                            </script>        </div>\n",
              "</body>\n",
              "</html>"
            ]
          },
          "metadata": {}
        }
      ]
    }
  ]
}