{
  "cells": [
    {
      "cell_type": "markdown",
      "metadata": {
        "id": "view-in-github",
        "colab_type": "text"
      },
      "source": [
        "<a href=\"https://colab.research.google.com/github/WilliamShengYangHuang/AALU_Workshop_3/blob/main/mosaic.ipynb\" target=\"_parent\"><img src=\"https://colab.research.google.com/assets/colab-badge.svg\" alt=\"Open In Colab\"/></a>"
      ]
    },
    {
      "cell_type": "code",
      "execution_count": null,
      "metadata": {
        "id": "QEdmyvZaqpZL"
      },
      "outputs": [],
      "source": [
        "from PIL import Image, ImageFilter\n",
        "import matplotlib.pyplot as plt\n",
        "import numpy as np\n",
        "import os\n",
        "\n",
        "from google.colab import drive\n",
        "drive.mount('/content/drive')"
      ]
    },
    {
      "cell_type": "code",
      "execution_count": null,
      "metadata": {
        "id": "pe_K40y_yI69"
      },
      "outputs": [],
      "source": [
        "target_image_path  = '/content/drive/My Drive/untitled.png' #@param{type:'string'}\n",
        "image_library_folder = '/content/drive/My Drive/Teaching/UK/AA/Landscape_pinterest/2/' #@param{type:'string'}"
      ]
    },
    {
      "cell_type": "markdown",
      "source": [
        "## Method 1: Basic Mosaic"
      ],
      "metadata": {
        "id": "YdN1llRJGLDC"
      }
    },
    {
      "cell_type": "code",
      "execution_count": null,
      "metadata": {
        "id": "-kxo7OR84bSJ"
      },
      "outputs": [],
      "source": [
        "def resize_image(image, size):\n",
        "    \"\"\"Resize an image to the given size.\"\"\"\n",
        "    return image.resize(size)\n",
        "\n",
        "def calculate_average_color(image):\n",
        "    \"\"\"Calculate the average color of the given image.\"\"\"\n",
        "    np_image = np.array(image)\n",
        "    w, h, d = np_image.shape\n",
        "    return np_image.reshape(w*h, d).mean(axis=0)\n",
        "\n",
        "def apply_sharpen_filter(image):\n",
        "    \"\"\"Apply a sharpening filter to the image.\"\"\"\n",
        "    return image.filter(ImageFilter.SHARPEN)\n",
        "\n",
        "def generate_unique_filename(base_path):\n",
        "    \"\"\"Generate a unique filename.\"\"\"\n",
        "    count = 1\n",
        "    while True:\n",
        "        path = f\"{base_path}_{count}.png\"\n",
        "        if not os.path.exists(path):\n",
        "            return path\n",
        "        count += 1\n",
        "\n",
        "def create_mosaic(target_image_path, image_library_folder, num_tiles_x, num_tiles_y, output_width=None, output_height=None, apply_sharpening=False):\n",
        "    print(\"Loading target image...\")\n",
        "    target = Image.open(target_image_path).convert('RGB')\n",
        "\n",
        "    # Adjusting the target image size to match the output resolution, if specified\n",
        "    if output_width and output_height:\n",
        "        target = target.resize((output_width, output_height))\n",
        "\n",
        "    target_width, target_height = target.size\n",
        "\n",
        "    # Setting tile width and height to 32 pixels\n",
        "    tile_width = tile_height = 32\n",
        "\n",
        "    print(\"Loading images from the library...\")\n",
        "    image_files = os.listdir(image_library_folder)\n",
        "    images = [Image.open(os.path.join(image_library_folder, img)).convert('RGB')\n",
        "              for img in image_files if img.endswith(('png', 'jpg', 'jpeg'))]\n",
        "    print(f\"Loaded {len(images)} images.\")\n",
        "\n",
        "    print(\"Processing target image...\")\n",
        "    target_width = num_tiles_x * tile_width\n",
        "    target_height = num_tiles_y * tile_height\n",
        "    target = target.resize((target_width, target_height))\n",
        "\n",
        "    print(\"Resizing images in the library...\")\n",
        "    tile_size = (tile_width, tile_height)\n",
        "    if apply_sharpening:\n",
        "        images_resized = [apply_sharpen_filter(resize_image(img, tile_size)) for img in images]\n",
        "    else:\n",
        "        images_resized = [resize_image(img, tile_size) for img in images]\n",
        "    average_colors = [calculate_average_color(img) for img in images_resized]\n",
        "\n",
        "    print(\"Creating mosaic...\")\n",
        "    mosaic = Image.new('RGB', target.size)\n",
        "    used_images = []\n",
        "\n",
        "    for i in range(0, target_width, tile_width):\n",
        "        for j in range(0, target_height, tile_height):\n",
        "            target_tile = target.crop((i, j, i + tile_width, j + tile_height))\n",
        "            target_color = calculate_average_color(target_tile)\n",
        "            distances = [np.linalg.norm(target_color - color) for color in average_colors]\n",
        "            closest_img_index = np.argmin(distances)\n",
        "            closest_img = images_resized[closest_img_index]\n",
        "            mosaic.paste(closest_img, (i, j))\n",
        "            filename = image_files[closest_img_index]\n",
        "            used_images.append(filename)\n",
        "        print(f\"Row {j // tile_height + 1} of {target_height // tile_height} complete.\")\n",
        "\n",
        "    if output_width and output_height:\n",
        "        mosaic = mosaic.resize((output_width, output_height))\n",
        "\n",
        "    base_output_path = '/content/drive/My Drive/mosaic'  # Change to your desired path\n",
        "    output_path = generate_unique_filename(base_output_path)\n",
        "    mosaic.save(output_path)\n",
        "    print(f\"Mosaic created successfully. Saved to {output_path}\")\n",
        "\n",
        "    # Visualization\n",
        "    plt.imshow(mosaic)\n",
        "    plt.axis('off')\n",
        "    plt.show()\n",
        "\n",
        "    return used_images\n"
      ]
    },
    {
      "cell_type": "code",
      "execution_count": null,
      "metadata": {
        "id": "yOAy1PN148LL"
      },
      "outputs": [],
      "source": [
        "#used_tile_filenames = create_mosaic(target_image_path, image_library_folder, tile_height=10, tile_width=10, scale_factor=4, apply_sharpening=sharpening)\n",
        "\n",
        "used_tile_filenames = create_mosaic(target_image_path, image_library_folder, num_tiles_x=75, num_tiles_y=50, output_width=None, output_height=None, apply_sharpening=False)\n",
        "print(\"Used tile filenames:\", used_tile_filenames)"
      ]
    },
    {
      "cell_type": "markdown",
      "metadata": {
        "id": "CGE4rD5h-mVg"
      },
      "source": [
        "## Method 2: To avoid repetitions and maximise the diversity of images in the mosaic"
      ]
    },
    {
      "cell_type": "code",
      "execution_count": null,
      "metadata": {
        "id": "Urrkp04s-VgU"
      },
      "outputs": [],
      "source": [
        "\n",
        "def resize_image(image, size):\n",
        "    \"\"\"Resize an image to the given size.\"\"\"\n",
        "    return image.resize(size)\n",
        "\n",
        "def calculate_average_color(image):\n",
        "    \"\"\"Calculate the average color of the given image.\"\"\"\n",
        "    np_image = np.array(image)\n",
        "    w, h, d = np_image.shape\n",
        "    return np_image.reshape(w*h, d).mean(axis=0)\n",
        "\n",
        "def apply_sharpen_filter(image):\n",
        "    \"\"\"Apply a sharpening filter to the image.\"\"\"\n",
        "    return image.filter(ImageFilter.SHARPEN)\n",
        "\n",
        "def generate_unique_filename(base_path):\n",
        "    \"\"\"Generate a unique filename.\"\"\"\n",
        "    count = 1\n",
        "    while True:\n",
        "        path = f\"{base_path}_{count}.png\"\n",
        "        if not os.path.exists(path):\n",
        "            return path\n",
        "        count += 1\n",
        "\n",
        "def create_mosaic(target_image_path, image_library_folder, num_tiles_x, num_tiles_y, output_width=None, output_height=None, apply_sharpening=False, mosaic_size_inches=(20, 20), dpi=150):\n",
        "    print(\"Loading target image...\")\n",
        "    target = Image.open(target_image_path).convert('RGB')\n",
        "\n",
        "    if output_width and output_height:\n",
        "        target = target.resize((output_width, output_height))\n",
        "\n",
        "    target_width, target_height = target.size\n",
        "    tile_width = tile_height = 32\n",
        "\n",
        "    print(\"Loading images from the library...\")\n",
        "    image_files = os.listdir(image_library_folder)\n",
        "    images = [Image.open(os.path.join(image_library_folder, img)).convert('RGB') for img in image_files if img.endswith(('png', 'jpg', 'jpeg'))]\n",
        "    print(f\"Loaded {len(images)} images.\")\n",
        "\n",
        "    image_usage = {img: 0 for img in image_files}\n",
        "\n",
        "    print(\"Processing target image...\")\n",
        "    target_width = num_tiles_x * tile_width\n",
        "    target_height = num_tiles_y * tile_height\n",
        "    target = target.resize((target_width, target_height))\n",
        "\n",
        "    print(\"Resizing images in the library...\")\n",
        "    tile_size = (tile_width, tile_height)\n",
        "    if apply_sharpening:\n",
        "        images_resized = [apply_sharpen_filter(resize_image(img, tile_size)) for img in images]\n",
        "    else:\n",
        "        images_resized = [resize_image(img, tile_size) for img in images]\n",
        "    average_colors = [calculate_average_color(img) for img in images_resized]\n",
        "\n",
        "    print(\"Creating mosaic...\")\n",
        "    mosaic = Image.new('RGB', target.size)\n",
        "\n",
        "    for i in range(0, target_width, tile_width):\n",
        "        for j in range(0, target_height, tile_height):\n",
        "            target_tile = target.crop((i, j, i + tile_width, j + tile_height))\n",
        "            target_color = calculate_average_color(target_tile)\n",
        "            distances = [np.linalg.norm(target_color - color) for color in average_colors]\n",
        "            sorted_indices = sorted(range(len(distances)), key=lambda k: (distances[k], image_usage[image_files[k]]))\n",
        "            closest_img_index = sorted_indices[0]\n",
        "            closest_img = images_resized[closest_img_index]\n",
        "            image_usage[image_files[closest_img_index]] += 1\n",
        "            mosaic.paste(closest_img, (i, j))\n",
        "\n",
        "        print(f\"Row {j // tile_height + 1} of {target_height // tile_height} complete.\")\n",
        "\n",
        "    base_output_path = '/content/drive/My Drive/mosaic'  # Replace with your desired path\n",
        "    output_path = generate_unique_filename(base_output_path)\n",
        "\n",
        "    # Resize the mosaic to the desired size in inches and set DPI\n",
        "    mosaic_in_pixels = mosaic.resize((mosaic_size_inches[0]*dpi, mosaic_size_inches[1]*dpi))\n",
        "    mosaic_in_pixels.save(output_path, 'PNG', dpi=(dpi, dpi))\n",
        "    print(f\"Mosaic created successfully. Saved to {output_path}\")\n",
        "\n",
        "    plt.imshow(mosaic_in_pixels)\n",
        "    plt.axis('off')\n",
        "    plt.gcf().set_size_inches(*mosaic_size_inches)\n",
        "    plt.show()\n",
        "\n",
        "    return image_usage\n"
      ]
    },
    {
      "cell_type": "code",
      "execution_count": null,
      "metadata": {
        "id": "Q_dGXom4-Yze"
      },
      "outputs": [],
      "source": [
        "used_tile_filenames = create_mosaic(target_image_path, image_library_folder, num_tiles_x=75, num_tiles_y=50, mosaic_size_inches=(30, 20), dpi=150, output_width=None, output_height=None, apply_sharpening=False)\n",
        "print(\"Used tile filenames:\", used_tile_filenames)"
      ]
    }
  ],
  "metadata": {
    "accelerator": "GPU",
    "colab": {
      "gpuType": "A100",
      "machine_shape": "hm",
      "provenance": [],
      "private_outputs": true,
      "authorship_tag": "ABX9TyOhvMmxqvUkowqNVFjD/qx0",
      "include_colab_link": true
    },
    "kernelspec": {
      "display_name": "Python 3",
      "name": "python3"
    },
    "language_info": {
      "name": "python"
    }
  },
  "nbformat": 4,
  "nbformat_minor": 0
}